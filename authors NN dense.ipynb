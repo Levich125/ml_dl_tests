{
 "cells": [
  {
   "cell_type": "markdown",
   "metadata": {},
   "source": [
    "# dataset https://www.kaggle.com/gdberrio/spooky-authors-csv\n",
    "Predict author of sentence (3 different authors)"
   ]
  },
  {
   "cell_type": "code",
   "execution_count": 1,
   "metadata": {
    "collapsed": true
   },
   "outputs": [],
   "source": [
    "from string import punctuation\n",
    "\n",
    "import pandas as pd\n",
    "import numpy as np\n",
    "\n",
    "from sklearn.model_selection import train_test_split\n",
    "from sklearn.feature_extraction.text import CountVectorizer, TfidfTransformer\n",
    "from sklearn.preprocessing import LabelEncoder\n",
    "\n",
    "from nltk.corpus import stopwords\n",
    "from nltk import wordpunct_tokenize, word_tokenize\n",
    "from nltk.stem import PorterStemmer\n",
    "\n",
    "from nltk.tokenize import WordPunctTokenizer\n",
    "from tensorflow.keras.utils import to_categorical\n",
    "from tensorflow.keras.preprocessing.text import Tokenizer\n",
    "from tensorflow.keras.preprocessing.sequence import pad_sequences\n",
    "from tensorflow.keras import models, layers, callbacks, optimizers"
   ]
  },
  {
   "cell_type": "code",
   "execution_count": 2,
   "metadata": {},
   "outputs": [
    {
     "data": {
      "text/html": [
       "<div>\n",
       "<style scoped>\n",
       "    .dataframe tbody tr th:only-of-type {\n",
       "        vertical-align: middle;\n",
       "    }\n",
       "\n",
       "    .dataframe tbody tr th {\n",
       "        vertical-align: top;\n",
       "    }\n",
       "\n",
       "    .dataframe thead th {\n",
       "        text-align: right;\n",
       "    }\n",
       "</style>\n",
       "<table border=\"1\" class=\"dataframe\">\n",
       "  <thead>\n",
       "    <tr style=\"text-align: right;\">\n",
       "      <th></th>\n",
       "      <th>id</th>\n",
       "      <th>text</th>\n",
       "      <th>author</th>\n",
       "    </tr>\n",
       "  </thead>\n",
       "  <tbody>\n",
       "    <tr>\n",
       "      <th>0</th>\n",
       "      <td>id26305</td>\n",
       "      <td>This process, however, afforded me no means of...</td>\n",
       "      <td>EAP</td>\n",
       "    </tr>\n",
       "    <tr>\n",
       "      <th>1</th>\n",
       "      <td>id17569</td>\n",
       "      <td>It never once occurred to me that the fumbling...</td>\n",
       "      <td>HPL</td>\n",
       "    </tr>\n",
       "    <tr>\n",
       "      <th>2</th>\n",
       "      <td>id11008</td>\n",
       "      <td>In his left hand was a gold snuff box, from wh...</td>\n",
       "      <td>EAP</td>\n",
       "    </tr>\n",
       "    <tr>\n",
       "      <th>3</th>\n",
       "      <td>id27763</td>\n",
       "      <td>How lovely is spring As we looked from Windsor...</td>\n",
       "      <td>MWS</td>\n",
       "    </tr>\n",
       "    <tr>\n",
       "      <th>4</th>\n",
       "      <td>id12958</td>\n",
       "      <td>Finding nothing else, not even gold, the Super...</td>\n",
       "      <td>HPL</td>\n",
       "    </tr>\n",
       "  </tbody>\n",
       "</table>\n",
       "</div>"
      ],
      "text/plain": [
       "        id                                               text author\n",
       "0  id26305  This process, however, afforded me no means of...    EAP\n",
       "1  id17569  It never once occurred to me that the fumbling...    HPL\n",
       "2  id11008  In his left hand was a gold snuff box, from wh...    EAP\n",
       "3  id27763  How lovely is spring As we looked from Windsor...    MWS\n",
       "4  id12958  Finding nothing else, not even gold, the Super...    HPL"
      ]
     },
     "execution_count": 2,
     "metadata": {},
     "output_type": "execute_result"
    }
   ],
   "source": [
    "df = pd.read_csv(\"datasets/authors.csv\")\n",
    "df.head()"
   ]
  },
  {
   "cell_type": "code",
   "execution_count": 3,
   "metadata": {},
   "outputs": [
    {
     "name": "stdout",
     "output_type": "stream",
     "text": [
      "EAP    7900\n",
      "MWS    6044\n",
      "HPL    5635\n",
      "Name: author, dtype: int64\n",
      "[7900 5635 6044]\n"
     ]
    }
   ],
   "source": [
    "print(df['author'].value_counts())\n",
    "\n",
    "texts = df['text']\n",
    "le = LabelEncoder().fit(df['author'])\n",
    "authors = le.transform(df['author'])\n",
    "print(np.bincount(authors))"
   ]
  },
  {
   "cell_type": "code",
   "execution_count": 4,
   "metadata": {},
   "outputs": [
    {
     "name": "stdout",
     "output_type": "stream",
     "text": [
      "[0 1 0]\n",
      "[[1. 0. 0.]\n",
      " [0. 1. 0.]\n",
      " [1. 0. 0.]]\n"
     ]
    }
   ],
   "source": [
    "labels = to_categorical(authors)\n",
    "print(authors[:3])\n",
    "print(labels[:3])"
   ]
  },
  {
   "cell_type": "code",
   "execution_count": 5,
   "metadata": {
    "collapsed": true
   },
   "outputs": [],
   "source": [
    "stemmer = PorterStemmer()\n",
    "stopwords = set(stopwords.words('english'))\n",
    "\n",
    "texts_lower_punct = []\n",
    "for i in texts:\n",
    "    texts_lower_punct.append(' '.join([stemmer.stem(x) for x in word_tokenize(i.lower())\n",
    "                                       if x not in punctuation and x not in stopwords]))"
   ]
  },
  {
   "cell_type": "code",
   "execution_count": 6,
   "metadata": {},
   "outputs": [
    {
     "data": {
      "text/plain": [
       "\"shall find feel injuri shall learn dread reveng '' day arriv\""
      ]
     },
     "execution_count": 6,
     "metadata": {},
     "output_type": "execute_result"
    }
   ],
   "source": [
    "texts_lower_punct[10]"
   ]
  },
  {
   "cell_type": "code",
   "execution_count": 7,
   "metadata": {},
   "outputs": [
    {
     "name": "stdout",
     "output_type": "stream",
     "text": [
      "15663 3916\n"
     ]
    }
   ],
   "source": [
    "X_train, X_test, y_train, y_test = train_test_split(texts_lower_punct, labels, stratify=labels, test_size=0.2)\n",
    "print(len(X_train), len(X_test))"
   ]
  },
  {
   "cell_type": "code",
   "execution_count": 8,
   "metadata": {
    "scrolled": true
   },
   "outputs": [
    {
     "data": {
      "text/plain": [
       "CountVectorizer(analyzer='word', binary=False, decode_error='ignore',\n",
       "        dtype=<class 'numpy.int64'>, encoding='utf-8', input='content',\n",
       "        lowercase=True, max_df=1.0, max_features=10000, min_df=2,\n",
       "        ngram_range=(1, 2), preprocessor=None, stop_words=None,\n",
       "        strip_accents=None, token_pattern='(?u)\\\\b\\\\w\\\\w+\\\\b',\n",
       "        tokenizer=None, vocabulary=None)"
      ]
     },
     "execution_count": 8,
     "metadata": {},
     "output_type": "execute_result"
    }
   ],
   "source": [
    "cv = CountVectorizer(decode_error='ignore', ngram_range=(1, 2), \n",
    "                     max_df=1.0, min_df=2, max_features=10000)  # will try bigrams as well\n",
    "\n",
    "cv.fit(X_train)"
   ]
  },
  {
   "cell_type": "code",
   "execution_count": 9,
   "metadata": {
    "collapsed": true
   },
   "outputs": [],
   "source": [
    "x_train_transformed = cv.transform(X_train)\n",
    "x_test_transformed = cv.transform(X_test)"
   ]
  },
  {
   "cell_type": "code",
   "execution_count": 10,
   "metadata": {},
   "outputs": [
    {
     "data": {
      "text/plain": [
       "(15663, 10000)"
      ]
     },
     "execution_count": 10,
     "metadata": {},
     "output_type": "execute_result"
    }
   ],
   "source": [
    "x_train_transformed.shape"
   ]
  },
  {
   "cell_type": "code",
   "execution_count": 11,
   "metadata": {
    "collapsed": true
   },
   "outputs": [],
   "source": [
    "model = models.Sequential()\n",
    "model.add(layers.Dense(32, activation='relu', input_shape=(x_train_transformed.shape[1], )))\n",
    "model.add(layers.Dropout(0.7))\n",
    "model.add(layers.Dense(3, activation='softmax'))\n",
    "\n",
    "model.compile(metrics=['acc'], loss='categorical_crossentropy', optimizer=optimizers.Adam(lr=1e-4))"
   ]
  },
  {
   "cell_type": "code",
   "execution_count": 12,
   "metadata": {
    "collapsed": true
   },
   "outputs": [],
   "source": [
    "cb = [callbacks.EarlyStopping(monitor='val_loss', patience=5)]"
   ]
  },
  {
   "cell_type": "code",
   "execution_count": 13,
   "metadata": {
    "scrolled": true
   },
   "outputs": [
    {
     "name": "stdout",
     "output_type": "stream",
     "text": [
      "Train on 12530 samples, validate on 3133 samples\n",
      "Epoch 1/100\n",
      "12530/12530 [==============================] - 1s 117us/sample - loss: 1.0905 - acc: 0.3837 - val_loss: 1.0812 - val_acc: 0.4574\n",
      "Epoch 2/100\n",
      "12530/12530 [==============================] - 1s 82us/sample - loss: 1.0687 - acc: 0.4584 - val_loss: 1.0614 - val_acc: 0.4861\n",
      "Epoch 3/100\n",
      "12530/12530 [==============================] - 1s 81us/sample - loss: 1.0425 - acc: 0.5151 - val_loss: 1.0352 - val_acc: 0.5257\n",
      "Epoch 4/100\n",
      "12530/12530 [==============================] - 1s 83us/sample - loss: 1.0101 - acc: 0.5591 - val_loss: 1.0032 - val_acc: 0.5914\n",
      "Epoch 5/100\n",
      "12530/12530 [==============================] - 1s 79us/sample - loss: 0.9710 - acc: 0.6098 - val_loss: 0.9668 - val_acc: 0.6473\n",
      "Epoch 6/100\n",
      "12530/12530 [==============================] - 1s 83us/sample - loss: 0.9340 - acc: 0.6434 - val_loss: 0.9298 - val_acc: 0.6923\n",
      "Epoch 7/100\n",
      "12530/12530 [==============================] - 1s 82us/sample - loss: 0.8972 - acc: 0.6757 - val_loss: 0.8944 - val_acc: 0.7258\n",
      "Epoch 8/100\n",
      "12530/12530 [==============================] - 1s 77us/sample - loss: 0.8616 - acc: 0.6977 - val_loss: 0.8611 - val_acc: 0.7453\n",
      "Epoch 9/100\n",
      "12530/12530 [==============================] - 1s 82us/sample - loss: 0.8291 - acc: 0.7160 - val_loss: 0.8299 - val_acc: 0.7581\n",
      "Epoch 10/100\n",
      "12530/12530 [==============================] - 1s 80us/sample - loss: 0.7941 - acc: 0.7313 - val_loss: 0.8012 - val_acc: 0.7676\n",
      "Epoch 11/100\n",
      "12530/12530 [==============================] - 1s 80us/sample - loss: 0.7650 - acc: 0.7452 - val_loss: 0.7746 - val_acc: 0.7756\n",
      "Epoch 12/100\n",
      "12530/12530 [==============================] - 1s 82us/sample - loss: 0.7384 - acc: 0.7584 - val_loss: 0.7497 - val_acc: 0.7852\n",
      "Epoch 13/100\n",
      "12530/12530 [==============================] - 1s 77us/sample - loss: 0.7159 - acc: 0.7623 - val_loss: 0.7276 - val_acc: 0.7897\n",
      "Epoch 14/100\n",
      "12530/12530 [==============================] - 1s 77us/sample - loss: 0.6917 - acc: 0.7731 - val_loss: 0.7067 - val_acc: 0.7960\n",
      "Epoch 15/100\n",
      "12530/12530 [==============================] - 1s 77us/sample - loss: 0.6683 - acc: 0.7805 - val_loss: 0.6876 - val_acc: 0.7989\n",
      "Epoch 16/100\n",
      "12530/12530 [==============================] - 1s 81us/sample - loss: 0.6517 - acc: 0.7852 - val_loss: 0.6701 - val_acc: 0.8021\n",
      "Epoch 17/100\n",
      "12530/12530 [==============================] - 1s 81us/sample - loss: 0.6308 - acc: 0.7954 - val_loss: 0.6540 - val_acc: 0.8056\n",
      "Epoch 18/100\n",
      "12530/12530 [==============================] - 1s 82us/sample - loss: 0.6163 - acc: 0.8019 - val_loss: 0.6392 - val_acc: 0.8088\n",
      "Epoch 19/100\n",
      "12530/12530 [==============================] - 1s 79us/sample - loss: 0.6024 - acc: 0.8000 - val_loss: 0.6255 - val_acc: 0.8107\n",
      "Epoch 20/100\n",
      "12530/12530 [==============================] - 1s 79us/sample - loss: 0.5829 - acc: 0.8113 - val_loss: 0.6126 - val_acc: 0.8123\n",
      "Epoch 21/100\n",
      "12530/12530 [==============================] - 1s 81us/sample - loss: 0.5699 - acc: 0.8117 - val_loss: 0.6012 - val_acc: 0.8130\n",
      "Epoch 22/100\n",
      "12530/12530 [==============================] - 1s 82us/sample - loss: 0.5574 - acc: 0.8185 - val_loss: 0.5901 - val_acc: 0.8165\n",
      "Epoch 23/100\n",
      "12530/12530 [==============================] - 1s 80us/sample - loss: 0.5452 - acc: 0.8211 - val_loss: 0.5801 - val_acc: 0.8187\n",
      "Epoch 24/100\n",
      "12530/12530 [==============================] - 1s 83us/sample - loss: 0.5331 - acc: 0.8268 - val_loss: 0.5707 - val_acc: 0.8203\n",
      "Epoch 25/100\n",
      "12530/12530 [==============================] - 1s 82us/sample - loss: 0.5278 - acc: 0.8276 - val_loss: 0.5622 - val_acc: 0.8209\n",
      "Epoch 26/100\n",
      "12530/12530 [==============================] - 1s 80us/sample - loss: 0.5113 - acc: 0.8376 - val_loss: 0.5539 - val_acc: 0.8206\n",
      "Epoch 27/100\n",
      "12530/12530 [==============================] - 1s 81us/sample - loss: 0.4992 - acc: 0.8414 - val_loss: 0.5461 - val_acc: 0.8213\n",
      "Epoch 28/100\n",
      "12530/12530 [==============================] - 1s 82us/sample - loss: 0.4852 - acc: 0.8457 - val_loss: 0.5386 - val_acc: 0.8203\n",
      "Epoch 29/100\n",
      "12530/12530 [==============================] - 1s 83us/sample - loss: 0.4777 - acc: 0.8460 - val_loss: 0.5319 - val_acc: 0.8197\n",
      "Epoch 30/100\n",
      "12530/12530 [==============================] - 1s 82us/sample - loss: 0.4722 - acc: 0.8445 - val_loss: 0.5258 - val_acc: 0.8197\n",
      "Epoch 31/100\n",
      "12530/12530 [==============================] - 1s 80us/sample - loss: 0.4612 - acc: 0.8509 - val_loss: 0.5201 - val_acc: 0.8200\n",
      "Epoch 32/100\n",
      "12530/12530 [==============================] - 1s 81us/sample - loss: 0.4506 - acc: 0.8563 - val_loss: 0.5144 - val_acc: 0.8203\n",
      "Epoch 33/100\n",
      "12530/12530 [==============================] - 1s 81us/sample - loss: 0.4459 - acc: 0.8574 - val_loss: 0.5093 - val_acc: 0.8206\n",
      "Epoch 34/100\n",
      "12530/12530 [==============================] - 1s 80us/sample - loss: 0.4394 - acc: 0.8564 - val_loss: 0.5046 - val_acc: 0.8213\n",
      "Epoch 35/100\n",
      "12530/12530 [==============================] - 1s 80us/sample - loss: 0.4340 - acc: 0.8579 - val_loss: 0.5000 - val_acc: 0.8209\n",
      "Epoch 36/100\n",
      "12530/12530 [==============================] - 1s 81us/sample - loss: 0.4183 - acc: 0.8690 - val_loss: 0.4956 - val_acc: 0.8209\n",
      "Epoch 37/100\n",
      "12530/12530 [==============================] - 1s 83us/sample - loss: 0.4186 - acc: 0.8634 - val_loss: 0.4917 - val_acc: 0.8213\n",
      "Epoch 38/100\n",
      "12530/12530 [==============================] - 1s 83us/sample - loss: 0.4124 - acc: 0.8670 - val_loss: 0.4880 - val_acc: 0.8219\n",
      "Epoch 39/100\n",
      "12530/12530 [==============================] - 1s 82us/sample - loss: 0.3980 - acc: 0.8703 - val_loss: 0.4847 - val_acc: 0.8209\n",
      "Epoch 40/100\n",
      "12530/12530 [==============================] - 1s 81us/sample - loss: 0.3954 - acc: 0.8729 - val_loss: 0.4814 - val_acc: 0.8225\n",
      "Epoch 41/100\n",
      "12530/12530 [==============================] - 1s 82us/sample - loss: 0.3879 - acc: 0.8749 - val_loss: 0.4782 - val_acc: 0.8225\n",
      "Epoch 42/100\n",
      "12530/12530 [==============================] - 1s 79us/sample - loss: 0.3805 - acc: 0.8804 - val_loss: 0.4754 - val_acc: 0.8235\n",
      "Epoch 43/100\n",
      "12530/12530 [==============================] - 1s 79us/sample - loss: 0.3703 - acc: 0.8822 - val_loss: 0.4726 - val_acc: 0.8238\n",
      "Epoch 44/100\n",
      "12530/12530 [==============================] - 1s 77us/sample - loss: 0.3695 - acc: 0.8809 - val_loss: 0.4698 - val_acc: 0.8248\n",
      "Epoch 45/100\n",
      "12530/12530 [==============================] - 1s 82us/sample - loss: 0.3648 - acc: 0.8832 - val_loss: 0.4675 - val_acc: 0.8254\n",
      "Epoch 46/100\n",
      "12530/12530 [==============================] - 1s 82us/sample - loss: 0.3657 - acc: 0.8791 - val_loss: 0.4653 - val_acc: 0.8254\n",
      "Epoch 47/100\n",
      "12530/12530 [==============================] - 1s 81us/sample - loss: 0.3545 - acc: 0.8840 - val_loss: 0.4632 - val_acc: 0.8254\n",
      "Epoch 48/100\n",
      "12530/12530 [==============================] - 1s 80us/sample - loss: 0.3481 - acc: 0.8918 - val_loss: 0.4613 - val_acc: 0.8257\n",
      "Epoch 49/100\n",
      "12530/12530 [==============================] - 1s 82us/sample - loss: 0.3471 - acc: 0.8840 - val_loss: 0.4594 - val_acc: 0.8254\n",
      "Epoch 50/100\n",
      "12530/12530 [==============================] - 1s 81us/sample - loss: 0.3374 - acc: 0.8943 - val_loss: 0.4577 - val_acc: 0.8260\n",
      "Epoch 51/100\n",
      "12530/12530 [==============================] - 1s 83us/sample - loss: 0.3339 - acc: 0.8921 - val_loss: 0.4561 - val_acc: 0.8257\n",
      "Epoch 52/100\n",
      "12530/12530 [==============================] - 1s 80us/sample - loss: 0.3272 - acc: 0.8965 - val_loss: 0.4547 - val_acc: 0.8264\n",
      "Epoch 53/100\n",
      "12530/12530 [==============================] - 1s 82us/sample - loss: 0.3166 - acc: 0.8978 - val_loss: 0.4533 - val_acc: 0.8254\n",
      "Epoch 54/100\n",
      "12530/12530 [==============================] - 1s 80us/sample - loss: 0.3195 - acc: 0.8964 - val_loss: 0.4522 - val_acc: 0.8254\n",
      "Epoch 55/100\n",
      "12530/12530 [==============================] - 1s 80us/sample - loss: 0.3132 - acc: 0.9026 - val_loss: 0.4511 - val_acc: 0.8254\n",
      "Epoch 56/100\n",
      "12530/12530 [==============================] - 1s 82us/sample - loss: 0.3092 - acc: 0.9011 - val_loss: 0.4503 - val_acc: 0.8254\n",
      "Epoch 57/100\n",
      "12530/12530 [==============================] - 1s 79us/sample - loss: 0.3052 - acc: 0.9049 - val_loss: 0.4492 - val_acc: 0.8244\n",
      "Epoch 58/100\n",
      "12530/12530 [==============================] - 1s 81us/sample - loss: 0.3027 - acc: 0.9018 - val_loss: 0.4483 - val_acc: 0.8248\n"
     ]
    },
    {
     "name": "stdout",
     "output_type": "stream",
     "text": [
      "Epoch 59/100\n",
      "12530/12530 [==============================] - 1s 78us/sample - loss: 0.2984 - acc: 0.9076 - val_loss: 0.4476 - val_acc: 0.8244\n",
      "Epoch 60/100\n",
      "12530/12530 [==============================] - 1s 80us/sample - loss: 0.2924 - acc: 0.9065 - val_loss: 0.4470 - val_acc: 0.8241\n",
      "Epoch 61/100\n",
      "12530/12530 [==============================] - 1s 83us/sample - loss: 0.2925 - acc: 0.9069 - val_loss: 0.4463 - val_acc: 0.8248\n",
      "Epoch 62/100\n",
      "12530/12530 [==============================] - 1s 80us/sample - loss: 0.2874 - acc: 0.9112 - val_loss: 0.4459 - val_acc: 0.8241\n",
      "Epoch 63/100\n",
      "12530/12530 [==============================] - 1s 80us/sample - loss: 0.2835 - acc: 0.9089 - val_loss: 0.4459 - val_acc: 0.8238\n",
      "Epoch 64/100\n",
      "12530/12530 [==============================] - 1s 82us/sample - loss: 0.2814 - acc: 0.9078 - val_loss: 0.4456 - val_acc: 0.8248\n",
      "Epoch 65/100\n",
      "12530/12530 [==============================] - 1s 82us/sample - loss: 0.2736 - acc: 0.9125 - val_loss: 0.4453 - val_acc: 0.8244\n",
      "Epoch 66/100\n",
      "12530/12530 [==============================] - 1s 79us/sample - loss: 0.2722 - acc: 0.9158 - val_loss: 0.4450 - val_acc: 0.8251\n",
      "Epoch 67/100\n",
      "12530/12530 [==============================] - 1s 82us/sample - loss: 0.2641 - acc: 0.9168 - val_loss: 0.4450 - val_acc: 0.8244\n",
      "Epoch 68/100\n",
      "12530/12530 [==============================] - 1s 81us/sample - loss: 0.2655 - acc: 0.9158 - val_loss: 0.4451 - val_acc: 0.8241\n",
      "Epoch 69/100\n",
      "12530/12530 [==============================] - 1s 83us/sample - loss: 0.2603 - acc: 0.9191 - val_loss: 0.4450 - val_acc: 0.8244\n",
      "Epoch 70/100\n",
      "12530/12530 [==============================] - 1s 84us/sample - loss: 0.2636 - acc: 0.9156 - val_loss: 0.4454 - val_acc: 0.8241\n",
      "Epoch 71/100\n",
      "12530/12530 [==============================] - 1s 80us/sample - loss: 0.2548 - acc: 0.9214 - val_loss: 0.4459 - val_acc: 0.8244\n"
     ]
    }
   ],
   "source": [
    "history = model.fit(x_train_transformed, y_train, epochs = 100, batch_size = 128, validation_split=0.2, callbacks=cb)"
   ]
  },
  {
   "cell_type": "code",
   "execution_count": 14,
   "metadata": {
    "collapsed": true
   },
   "outputs": [],
   "source": [
    "from sklearn.metrics import log_loss"
   ]
  },
  {
   "cell_type": "code",
   "execution_count": 15,
   "metadata": {},
   "outputs": [
    {
     "data": {
      "text/plain": [
       "0.4560514876877649"
      ]
     },
     "execution_count": 15,
     "metadata": {},
     "output_type": "execute_result"
    }
   ],
   "source": [
    "log_loss(y_test, model.predict_proba(x_test_transformed))"
   ]
  },
  {
   "cell_type": "markdown",
   "metadata": {
    "collapsed": true
   },
   "source": [
    "Not much better than 0.47 using sklearn"
   ]
  },
  {
   "cell_type": "code",
   "execution_count": null,
   "metadata": {
    "collapsed": true
   },
   "outputs": [],
   "source": []
  }
 ],
 "metadata": {
  "kernelspec": {
   "display_name": "venv_ds",
   "language": "python",
   "name": "venv_ds"
  },
  "language_info": {
   "codemirror_mode": {
    "name": "ipython",
    "version": 3
   },
   "file_extension": ".py",
   "mimetype": "text/x-python",
   "name": "python",
   "nbconvert_exporter": "python",
   "pygments_lexer": "ipython3",
   "version": "3.5.2"
  }
 },
 "nbformat": 4,
 "nbformat_minor": 2
}
