{
 "cells": [
  {
   "cell_type": "code",
   "execution_count": 1,
   "metadata": {
    "collapsed": true
   },
   "outputs": [],
   "source": [
    "from tensorflow.keras.datasets import imdb\n",
    "from tensorflow.keras import layers, models\n",
    "\n",
    "import numpy as np\n",
    "import pickle"
   ]
  },
  {
   "cell_type": "code",
   "execution_count": 2,
   "metadata": {},
   "outputs": [
    {
     "name": "stdout",
     "output_type": "stream",
     "text": [
      "train data shape:  (25000,)\n",
      "train labels shape:  (25000,)\n"
     ]
    }
   ],
   "source": [
    "(train_data, train_labels), (test_data, test_labels) = pickle.load( open( \"imdb.p\", \"rb\" ) )\n",
    "print(\"train data shape: \", train_data.shape)\n",
    "print(\"train labels shape: \", train_labels.shape)"
   ]
  },
  {
   "cell_type": "code",
   "execution_count": 3,
   "metadata": {},
   "outputs": [
    {
     "name": "stdout",
     "output_type": "stream",
     "text": [
      "? this film was just brilliant casting location scenery story direction everyone's really suited the part they played and you could just imagine being there robert ? is an amazing actor and now the same being director ? father came from the same scottish island as myself so i loved the fact there was a real connection with this film the witty remarks throughout the film were great it was just brilliant so much that i bought the film as soon as it was released for ? and would recommend it to everyone to watch and the fly fishing was amazing really cried at the end it was so sad and you know what they say if you cry at a film it must have been good and this definitely was also ? to the two little boy's that played the ? of norman and paul they were just brilliant children are often left out of the ? list i think because the stars that play them all grown up are such a big profile for the whole film but these children are amazing and should be praised for what they have done don't you think the whole story was so lovely because it was true and was someone's life after all that was shared with us all\n"
     ]
    }
   ],
   "source": [
    "word_index = imdb.get_word_index()\n",
    "reverse_word_index = dict([(y, x) for x,y in word_index.items()])\n",
    "\n",
    "decoded_review = ' '.join([reverse_word_index.get(i - 3, '?') for i in train_data[0]])\n",
    "print(decoded_review)"
   ]
  },
  {
   "cell_type": "code",
   "execution_count": 4,
   "metadata": {},
   "outputs": [
    {
     "name": "stdout",
     "output_type": "stream",
     "text": [
      "[0. 1. 1. ... 0. 0. 0.]\n"
     ]
    }
   ],
   "source": [
    "def vectorize_sequences(sequences, maxlen = 10000):\n",
    "    out = np.zeros((len(sequences), maxlen))\n",
    "    for n, i in enumerate(sequences):\n",
    "        out[n, i] = 1.\n",
    "    return out\n",
    "\n",
    "\n",
    "x_train = vectorize_sequences(train_data)\n",
    "x_test = vectorize_sequences(test_data)\n",
    "print(x_train[0])\n",
    "\n",
    "y_train = np.asarray(train_labels).astype('float32')\n",
    "y_test = np.asarray(test_labels).astype('float32')"
   ]
  },
  {
   "cell_type": "code",
   "execution_count": 5,
   "metadata": {},
   "outputs": [
    {
     "name": "stdout",
     "output_type": "stream",
     "text": [
      "Epoch 1/4\n",
      "25000/25000 [==============================] - 2s 90us/sample - loss: 0.4609 - acc: 0.8238\n",
      "Epoch 2/4\n",
      "25000/25000 [==============================] - 2s 69us/sample - loss: 0.2631 - acc: 0.9093\n",
      "Epoch 3/4\n",
      "25000/25000 [==============================] - 2s 69us/sample - loss: 0.2026 - acc: 0.9285\n",
      "Epoch 4/4\n",
      "25000/25000 [==============================] - 2s 67us/sample - loss: 0.1702 - acc: 0.9394\n"
     ]
    },
    {
     "data": {
      "text/plain": [
       "<tensorflow.python.keras.callbacks.History at 0x7fbe1f88bef0>"
      ]
     },
     "execution_count": 5,
     "metadata": {},
     "output_type": "execute_result"
    }
   ],
   "source": [
    "model = models.Sequential()\n",
    "model.add(layers.Dense(16, activation='relu', input_shape = (10000,)))\n",
    "model.add(layers.Dense(16, activation='relu'))\n",
    "model.add(layers.Dense(1, activation='sigmoid'))\n",
    "\n",
    "model.compile(optimizer = 'rmsprop', metrics = ['acc'], loss = 'binary_crossentropy')\n",
    "model.fit(x_train, y_train, epochs=4, batch_size = 512)#, validation_split = 0.2)"
   ]
  },
  {
   "cell_type": "code",
   "execution_count": 6,
   "metadata": {},
   "outputs": [
    {
     "name": "stdout",
     "output_type": "stream",
     "text": [
      "25000/25000 [==============================] - 3s 106us/sample - loss: 0.2902 - acc: 0.8867\n"
     ]
    },
    {
     "data": {
      "text/plain": [
       "[0.2902216139125824, 0.88668]"
      ]
     },
     "execution_count": 6,
     "metadata": {},
     "output_type": "execute_result"
    }
   ],
   "source": [
    "model.evaluate(x_test, y_test)"
   ]
  },
  {
   "cell_type": "code",
   "execution_count": 7,
   "metadata": {},
   "outputs": [
    {
     "name": "stdout",
     "output_type": "stream",
     "text": [
      "[0.20560718]\n"
     ]
    }
   ],
   "source": [
    "test_predictions = model.predict(x_test)\n",
    "print(test_predictions[0])"
   ]
  },
  {
   "cell_type": "code",
   "execution_count": 8,
   "metadata": {
    "collapsed": true
   },
   "outputs": [],
   "source": [
    "#top cases when the model is not sure about choosing class (closest to 0.5)\n",
    "differences = np.absolute(test_predictions - 0.5)\n",
    "top_20_uncertain = np.argsort(differences, axis = 0)[:20]"
   ]
  },
  {
   "cell_type": "code",
   "execution_count": 9,
   "metadata": {
    "scrolled": true
   },
   "outputs": [
    {
     "name": "stdout",
     "output_type": "stream",
     "text": [
      "Item 6125, probability [0.4999049], label 0\n",
      "? another example that we should stay away from trying to do spectacular action movies in sweden it ? work except for still ? ? does the best he can i suppose and some scenes are mildly effective but the plot is full of holes why does hamilton continue the attack on the base knowing that his wife is held hostage it was fun to see mark ? but his bad guy part was very ? ? constantly amazed that relatively big swedish movies like this get made without a sensible ? script 1 out of 5\n",
      "\n",
      "\n",
      "\n",
      "Item 3627, probability [0.5001886], label 0\n",
      "? stranded in space 1972 mst3k version a very not good tv movie pilot for a never to be made series in which an astronaut finds himself trapped on ? evil twin having a planet of identical size and mass ? in the same plane as the earth but on the opposite side of the sun is a well worn sf ? the idea is over 2 000 years old having been invented by the ancient ? in this version the counter world is run as an ? ? society where for totally inexplicable reasons everyone speaks english and drives late model american cars after escaping from his hospital the ? is chased around not southern california by tv and bad movie ? cameron mitchell who like his ? wears double ? suits and black ? neck ? a ? evil combination which i fully intend to adopt if ever i become a ? ? our hero escapes several times before ending up ? at the alien world's three ? and wondering ? if he will ever get home thus setting up one of those man alone in a hostile world making a new friend each week but moving on at the end of every episode shows so beloved of the industry in the 70s and 80s 'the 'the incredible 'the ? etc the curiously ? bit though was the title sequence somewhere between in ? first airing under the title 'the ? in 1972 and the mst3k version in 1991 it somehow acquired some footage from the 1983 movie of the lost so in 1991 the opening credits for in ? run under a few shots of three people falling into a matter ? and ? it's a sequence that has nothing to do even ? with anything that is going to follow br br just to add to the nerdy b movie confusion one of the actors in this nailed on footage kay ? later appeared in a 1994 movie called in ? knowing this fact could never save your life but it might score you very big points and ? looks from fellow trash movie ? if you could ever work out a way of the conversation round to the point where you could casually slip it in without looking like a total idiot\n",
      "\n",
      "\n",
      "\n",
      "Item 623, probability [0.49970716], label 0\n",
      "? this is supposedly a story in which a grown man tells a story about his youth yet you see things like personal computers e ? ? etc which are items used in the late 20th century and early 21st br br so when is this guy supposed to be telling this story in ? gee i wonder how advanced we are then how about telling us that br br also there are several legal issues which also make no sense in the courtroom scene the story falls into the usual ? of surprise evidence which is ? in any real court of law in this country also grandma would have to be missing at least seven years in most states before to be ? officially dead br br ? ? ? you are now officially a ?\n",
      "\n",
      "\n",
      "\n",
      "Item 21111, probability [0.49969953], label 1\n",
      "? when i was younger this movie always aired on friday night in the summer on channel 40 this was the years before fox was a network and took over the programming i always looked forward to it i'd go ? shopping with my parents then sit down with my tv dinner and a lady lee ? the only time of the week i was allowed to drink ? and enjoy sure the script is predictably late 70's like little ? but it's a fun movie and i loved ? and bill murray ? with little effort in the movie but he is charming gotta love ? and those taped glasses pre revenge of the ? chris ? is pretty much the same character he played in my bodyguard but he does it so well\n",
      "\n",
      "\n",
      "\n",
      "Item 21968, probability [0.5003846], label 0\n",
      "? this movie was pretentious ? and just down right not funny the filming technique reminded me of mtv i am a fan of hartley but what was he thinking of so much more thought could have gone into this movie considering the subject matter this could have been a true ? battle over good and evil but hartley it appears used the stand technique of ? out the viewer\n",
      "\n",
      "\n",
      "\n",
      "Item 1990, probability [0.49951196], label 0\n",
      "? this is a really mediocre film in the vein of ? ? the cast runs around like mad max ? and they seem to be sharing a joke that they do not want to share with the audience ? nicholson is one of the those guilty pleasure actresses you are delighted to stumble across in films but she isn't worth the price of rental space ? starts an ? fire and burns a vote of 4\n",
      "\n",
      "\n",
      "\n",
      "Item 7825, probability [0.5005184], label 1\n",
      "? lights of new york was the first all taking feature film coming in at a ? ? minutes and directed by bryan ? of the famous vaudeville family br br the story has two dopey ? ? ? eugene palette yearning for a chance at big city life and getting involved with gangsters and ? booze one of the guys gets framed for the murder of a cop but is saved at the last minute by a gun ? ? br br much of the story takes place in a night club called the night ? which is run by a crook named ? ? who has his eye on a pretty ? who is the girl friend of ? ? gets to do a brief dance and we hear harry ? made up to resemble ted lewis sing at ? in his best al ? style br br the acting ? from good palette and to awful a couple of the actors ? their lines but then keep right on with the scene as noted elsewhere this was intended to be a short 2 ? and was made on a ? budget yet the sound quality is surprisingly good the voices all register clearly and there is a neat cinematic touch in the ? death br br the film was a box office smash even though it was shown as a silent film where theaters were not ? for the new sound technology no one expected this little film to gross an amazing 1 3 million it briefly made stars of ? and ? and certainly launched palette on his long career as a star character actor br br co stars include mary ? as the mother robert elliott as the detective eddie kane as the street cop and tom ? as a thug\n",
      "\n",
      "\n",
      "\n",
      "Item 22156, probability [0.49942476], label 1\n",
      "? this ladies and gentlemen is truly a modern b movie the dialog is stilted and delivered with wooden ? the premise is predictable there are a few decent twists and characters remain ? for most of it and yet there is a certain charm wwe wrestler kane brings to life the sick twisted monster of a man with a lot of pathos though it is somewhat like his character that he's been playing around ten years and so i'll find it quite amusing when people say it's not much of a reach for him but ? ? is apparently quite the nice guy so actually it is in any event he's cast perfectly as the ? ? and the deaths are suitably over the top jason would be proud but i heard at least four applause breaks for four different kills scenes frankly go into this movie thinking that you'll have some fun and a ? oh it is quite the ? the r rating is richly deserved and i actually got a little ? during some of the more graphic times in any event a very very fun but fairly bad movie\n",
      "\n",
      "\n",
      "\n",
      "Item 13239, probability [0.500629], label 1\n",
      "? now i've seen many many b grade films in my 15 years of living and i must say that this was one of the better ones i personally enjoyed the real estate and the storyline but it did suffer from amateur acting although ? ? did give a decent performance as lisa grant joseph ? couldn't hold his part well enough to be considered good the other performance which really fit the film was that of barry hope barney ? it begins with an eager real estate agent taking an asian couple through a house only to find there's a dead girl in the shower of the it progresses with detective ? and introduces the key characters with reasonable grace i think that for any person who's in for a giggle at the over the top drama the victim provide during the over the top gory scenes this truly is a gem ? who am i kidding it's not that great but worth a watch if you're insanely bored\n",
      "\n",
      "\n",
      "\n",
      "Item 2789, probability [0.5007107], label 1\n",
      "? this movie was thought to be low budget but it turned out to be awesome i just rented it from blockbuster and i loved it the acting was very good hot women and some scary parts it is plain and simply worth the money to pay for\n",
      "\n",
      "\n",
      "\n",
      "Item 2601, probability [0.49921957], label 0\n",
      "? i do not know which one was first released earlier in 1970 cannon for is an western it was made in spain this means this is fairly inferior to sergio ? so called western spaghetti and to the real american masterpieces of john ford sam ? howard ? john ? and anthony mann in my order of merit this order is not to be interpreted as all john ford westerns are better than all by sam i think ? 100 sort them out all pretty well br br the worse about this firm is the casting george ? is fit for a ? role ? for a ? ? and giovanna ? to a in ? in the in rome\n",
      "\n",
      "\n",
      "\n",
      "Item 14125, probability [0.49905705], label 0\n",
      "? eaten alive is a little film that opens in new york city and the ? where tribe men shoot snake ? at a few people then a woman enters the police ? who's trying to find her sister that has disappeared after 6 months sheila is from ? but her accent sucks she is teamed up with an ? who seems to just want her money and seems to say it a lot throughout the film they venture through the amazon only to find a community with people and they find the sister they're confronted by a mad man who has probably seen one too many jim jones ? he will bring them to a better place it could be heaven but no mark and sheila find out later its actually a suicide cult br br why do i call eaten alive a little film ill tell you but when i watched it i was ? through all the run ins with the cannibals robert has a different role than his professor in cannibal holocaust he's a bit annoying once we meet him at an arm wrestling match that looked like russian ? we know hes one tough guy plus the strong ? just makes you cringe and it looked like i saw it somewhere oh the scenes of animals killing each other but the whole film revolves on those scenes its like were actually watching a images of nature with parts of a film but after watching this film i realized that most of the films scenes are taken from other cannibal films even the demise of 2 of the characters well most of the film is that's why i call this a little film when i did found out that scenes were borrowed i felt like throwing the disc across the room this isn't a film just a simple montage of sorts\n",
      "\n",
      "\n",
      "\n",
      "Item 790, probability [0.4990178], label 0\n",
      "? okay so it was never going to change the world and it bombed at the box office but ? ? ? is one of those films i fell in love with as a child the bbc showed it a few times during the 1980s and i happened to have a high quality vhs tape in the machine lucky that and watched endlessly i watched the dvd last night and sadly time has not been kind to this would be blockbuster either that or i've just grown out of this kind of broad dopey humour come on when ? is so desperate for laughs he gives us close ups of novelty ? with ? what can you say about the cast or screenplay br br certainly it's ambitious interesting unusual and ? but it's never once laugh out loud funny i'd describe it as a children's film with some ? overtones you can safely let your youngsters watch this despite the 15 ? they won't get the drug references so don't worry about it i had a pleasant surprise when i realized i'd forgotten just how catchy both the title song and the song writing truck ? ? going faster song were not to mention the town of patriotic ? the whole cast give commendable performances the photography is crisp and captures the mood of the various locations perfectly and there's a real time capsule feeling about the fashions the cars the ? especially the ? ? drum machine the interiors and the pop culture references i was more than a little surprised to hear the nutty bum in the bank ? telling everyone i'm ? simpson particularly now ? legal ? have overshadowed his sporting achievements the ? is there's almost no plot to speak of it's way too obvious to be witty and not funny enough to ? many genuine laughs i wish i'd left this one as a pleasant memory\n",
      "\n",
      "\n",
      "\n",
      "Item 17225, probability [0.49892431], label 0\n",
      "? i turned this off within the first five minutes it's very sick and disturbing the moment i turned this off was when the beautiful white horse was let into the ? and it's skull was ? by a small ? ? this creature was lying on the floor in a state of shock before it died the narrator said the animal dies ? it didn't i don't agree with graphic realism towards animals insects or any living creature i was very disappointed as i had just watched ? without a ? which was a brilliant movie and this short film was attached which ? my night as i couldn't hurt a fly never mind watching this savage documentary br br reading other reviews on this page i had noticed they used words such as aesthetic this is not art or beauty i can imagine that the documentary would be very ? and profound but not aesthetic\n",
      "\n",
      "\n",
      "\n",
      "Item 15851, probability [0.5011677], label 1\n",
      "? i saw this movie back in 1954 on a double bill with valley of the kings these movies helped inspire a ? interest in ? in 1975 i visited egypt seen today the egyptian suffers from flat dialog and a few ? touches but it's a glorious movie to look at the sort of thing hollywood alas just doesn't do anymore and it has a great story not just the usual boy meets girl or vengeance is mine affair too bad 20th won't re issue restored ? of this to be seen on the big screen\n",
      "\n",
      "\n",
      "\n",
      "Item 16607, probability [0.49880126], label 1\n",
      "? this lasted several years despite the late hour it was on br br like a lot of 80's crime dramas it looked cold both physically and ? this isn't a bad thing though and the obviously low budget actually worked in it's favor gritty during a time when ? was in br br allan ? ? segments as the news writer gave it a slight edge br br the only actors i remembered were scott ? and tony ? the cast of barely ? was a good thing because one could see the group as a whole and not as a bunch of people supporting a ? ' and yes that's a young clark johnson homicide in a recurring spot br br i hope a dvd release is in the future someone out there wanna get on that\n",
      "\n",
      "\n",
      "\n",
      "Item 5661, probability [0.49862733], label 1\n",
      "? i have never seen american werewolf in london but this movie was very entertaining when renting it i thought it was a horror movie but it turned out to be more of a comedy with some horror aspects i thought the transformation sequences were nicely done but effects wise the best scenes were those where the effects and the lighting built off each other nice the ? reminded me a lot of werewolf ? in other movies but the werewolves themselves are very ? and not very dog like gore i do believe there is too much in this movie which really takes away from the horror when every frame has blood in it taking the violence seriously is hard br br j ? ? grade\n",
      "\n",
      "\n",
      "\n",
      "Item 1089, probability [0.50163466], label 1\n",
      "? gorgeous annie belle in her prime stars in this adventure sex movie she wears her hair in a buzz cut that is ? ? she and her boyfriend are visiting some ? asian paradise they have decided to keep an open sexual relationship which is played out on their journey to find a secret society tribe where the people live one year and then are ? in some kind of ceremony the scenery is gorgeous deep vast green ? and ? are explored the imagery is very similar to that of the movie black ? it is rich and colorful recommended\n",
      "\n",
      "\n",
      "\n",
      "Item 6112, probability [0.49819368], label 0\n",
      "? it's difficult to make it through this movie without ? on your own vomit to be honest the shoddy animation doesn't help as it makes this look like a decades old video you'd find in ? bin still it's better than the abysmal screenplay which spends about a third of its length on superfluous extras like ? present day problems stuff about ? dad and plenty of ? around with choke two ? mice these bizarre ? eat up screen time at the expense of elements you'd think would be quite important like ? dialogue and key ? of his plot the movie up the game of twenty questions for example and at times fails to put scenes in the right order absolutely hopeless\n",
      "\n",
      "\n",
      "\n",
      "Item 16292, probability [0.5019924], label 0\n",
      "? man with the screaming brain is a story of greed betrayal and revenge in the a small ? town william cole wealthy ? winds up with part of his brain replaced by that of a russian cab driver the two couldn't be more different but they share one thing both were killed by the same woman brought back to life by a mad scientist william and form an unlikely ? to track down their common nemesis br br bruce campbell returns to the b horror movie genre that gave him his cult status this time not only in front of the screen but behind the lens unfortunately for this time around the laughs don't deliver and campbell has to resort to what he does best to try and fill the gap in this film br br as a fan of campbell who has the movies the books and the action figures i was hoping for another hit to add to my collection although after seeing this film before the purchase i am glad that i don't have the pleasure of adding it br br the film first goes wrong in the story which at first sight seems like harmless fun but turns out to be boring drawn out ? which is a sad thing to say because it was written by mr campbell himself the comedy never really hits it only makes us scratch our heads it seems that campbell ran out of things that are funny and resulted in giving the audience what we've already seen him fighting himself br br ted ? the brother of evil dead director sam ? is undoubtedly the highlight of the film he brings a ? to it and an entertaining time when the film really needs it it helps if you are a fan and have been following these stooges from evil dead to ? which is why i felt compelled to like this film br br ? experience as a director from directing episodes of the tv series ? is apparent campbell makes the film work well enough even with the low budget in the end there aren't as many things going for this as one would hope for but the fans of campbell will stick behind it no matter what unfortunately for this fan i won't\n",
      "\n",
      "\n",
      "\n"
     ]
    }
   ],
   "source": [
    "for item_num in top_20_uncertain:\n",
    "    itn = item_num[0]\n",
    "    decoded_review = ' '.join([reverse_word_index.get(i - 3, '?') for i in test_data[itn]])\n",
    "    print(\"Item {}, probability {}, label {}\".format(item_num[0], model.predict(x_test[np.newaxis, itn])[0], test_labels[itn]))\n",
    "    print(decoded_review + '\\n'*3)"
   ]
  },
  {
   "cell_type": "code",
   "execution_count": null,
   "metadata": {
    "collapsed": true
   },
   "outputs": [],
   "source": []
  }
 ],
 "metadata": {
  "kernelspec": {
   "display_name": "venv_ds",
   "language": "python",
   "name": "venv_ds"
  },
  "language_info": {
   "codemirror_mode": {
    "name": "ipython",
    "version": 3
   },
   "file_extension": ".py",
   "mimetype": "text/x-python",
   "name": "python",
   "nbconvert_exporter": "python",
   "pygments_lexer": "ipython3",
   "version": "3.5.2"
  }
 },
 "nbformat": 4,
 "nbformat_minor": 2
}
