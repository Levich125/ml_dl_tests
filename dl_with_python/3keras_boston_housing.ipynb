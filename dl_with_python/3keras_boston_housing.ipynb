{
 "cells": [
  {
   "cell_type": "code",
   "execution_count": 1,
   "metadata": {
    "collapsed": true
   },
   "outputs": [],
   "source": [
    "from tensorflow.keras.datasets import boston_housing"
   ]
  },
  {
   "cell_type": "code",
   "execution_count": 2,
   "metadata": {
    "collapsed": true
   },
   "outputs": [],
   "source": [
    "(train_data, train_targets), (test_data, test_targets) = boston_housing.load_data()"
   ]
  },
  {
   "cell_type": "code",
   "execution_count": 3,
   "metadata": {},
   "outputs": [
    {
     "data": {
      "text/plain": [
       "(404, 13)"
      ]
     },
     "execution_count": 3,
     "metadata": {},
     "output_type": "execute_result"
    }
   ],
   "source": [
    "train_data.shape"
   ]
  },
  {
   "cell_type": "code",
   "execution_count": 4,
   "metadata": {
    "collapsed": true
   },
   "outputs": [],
   "source": [
    "from sklearn.preprocessing import StandardScaler"
   ]
  },
  {
   "cell_type": "code",
   "execution_count": 5,
   "metadata": {
    "collapsed": true
   },
   "outputs": [],
   "source": [
    "mean = train_data.mean(axis=0)\n",
    "std = train_data.std(axis=0)"
   ]
  },
  {
   "cell_type": "code",
   "execution_count": 7,
   "metadata": {},
   "outputs": [],
   "source": [
    "x_train = (train_data - mean)/std\n",
    "x_test = (test_data - mean)/std"
   ]
  },
  {
   "cell_type": "code",
   "execution_count": 8,
   "metadata": {
    "collapsed": true
   },
   "outputs": [],
   "source": [
    "scaler = StandardScaler().fit(train_data)\n",
    "x_train_sc = scaler.transform(train_data)\n",
    "x_test_sc = scaler.transform(test_data)"
   ]
  },
  {
   "cell_type": "code",
   "execution_count": 11,
   "metadata": {},
   "outputs": [
    {
     "name": "stdout",
     "output_type": "stream",
     "text": [
      "True\n",
      "True\n"
     ]
    }
   ],
   "source": [
    "print((x_train == x_train_sc).all())\n",
    "print((x_test == x_test_sc).all())"
   ]
  },
  {
   "cell_type": "code",
   "execution_count": 12,
   "metadata": {},
   "outputs": [
    {
     "data": {
      "text/plain": [
       "array([15.2, 42.3, 50. , 21.1, 17.7, 18.5, 11.3, 15.6, 15.6, 14.4, 12.1,\n",
       "       17.9, 23.1, 19.9, 15.7,  8.8, 50. , 22.5, 24.1, 27.5])"
      ]
     },
     "execution_count": 12,
     "metadata": {},
     "output_type": "execute_result"
    }
   ],
   "source": [
    "train_targets[:20]"
   ]
  },
  {
   "cell_type": "code",
   "execution_count": 13,
   "metadata": {
    "collapsed": true
   },
   "outputs": [],
   "source": [
    "from tensorflow.keras import layers, models"
   ]
  },
  {
   "cell_type": "code",
   "execution_count": 16,
   "metadata": {
    "collapsed": true
   },
   "outputs": [],
   "source": [
    "def build_model():\n",
    "    model = models.Sequential()\n",
    "    model.add(layers.Dense(64, activation='relu', input_shape = (x_train.shape[1],)))\n",
    "    model.add(layers.Dense(64, activation = 'relu'))\n",
    "    model.add(layers.Dense(1))\n",
    "    model.compile(loss = 'mse', optimizer = 'rmsprop', metrics=['mae'])\n",
    "    return model"
   ]
  },
  {
   "cell_type": "code",
   "execution_count": 20,
   "metadata": {},
   "outputs": [],
   "source": [
    "from tensorflow.keras.wrappers.scikit_learn import KerasRegressor\n",
    "from sklearn.model_selection import cross_val_score, KFold"
   ]
  },
  {
   "cell_type": "code",
   "execution_count": 24,
   "metadata": {},
   "outputs": [
    {
     "name": "stdout",
     "output_type": "stream",
     "text": [
      "Results: -12.65 (5.73) MSE\n"
     ]
    }
   ],
   "source": [
    "estimator = KerasRegressor(build_fn=build_model, epochs=100, batch_size=5, verbose=0)\n",
    "\n",
    "kfold = KFold(n_splits=5)\n",
    "results = cross_val_score(estimator, x_train, train_targets, cv=kfold)\n",
    "print(\"Results: %.2f (%.2f) MSE\" % (results.mean(), results.std()))"
   ]
  },
  {
   "cell_type": "code",
   "execution_count": 25,
   "metadata": {},
   "outputs": [
    {
     "name": "stdout",
     "output_type": "stream",
     "text": [
      "[ -6.58529483 -10.51019189  -8.40172561 -22.56713879 -15.20476199]\n",
      "-12.653822621022478\n"
     ]
    }
   ],
   "source": [
    "print(results)\n",
    "print(results.mean())"
   ]
  },
  {
   "cell_type": "code",
   "execution_count": 26,
   "metadata": {},
   "outputs": [
    {
     "name": "stdout",
     "output_type": "stream",
     "text": [
      "Epoch 1/80\n",
      "404/404 [==============================] - 0s 437us/sample - loss: 500.1619 - mae: 20.1987\n",
      "Epoch 2/80\n",
      "404/404 [==============================] - 0s 236us/sample - loss: 319.0561 - mae: 15.4385\n",
      "Epoch 3/80\n",
      "404/404 [==============================] - 0s 242us/sample - loss: 147.4088 - mae: 9.8937\n",
      "Epoch 4/80\n",
      "404/404 [==============================] - 0s 242us/sample - loss: 61.0341 - mae: 5.9810\n",
      "Epoch 5/80\n",
      "404/404 [==============================] - 0s 255us/sample - loss: 35.1546 - mae: 4.4020\n",
      "Epoch 6/80\n",
      "404/404 [==============================] - 0s 259us/sample - loss: 25.3160 - mae: 3.6136\n",
      "Epoch 7/80\n",
      "404/404 [==============================] - 0s 260us/sample - loss: 21.7286 - mae: 3.2970\n",
      "Epoch 8/80\n",
      "404/404 [==============================] - 0s 262us/sample - loss: 19.3419 - mae: 3.0757\n",
      "Epoch 9/80\n",
      "404/404 [==============================] - 0s 251us/sample - loss: 17.8643 - mae: 2.9304\n",
      "Epoch 10/80\n",
      "404/404 [==============================] - 0s 254us/sample - loss: 16.3299 - mae: 2.8114\n",
      "Epoch 11/80\n",
      "404/404 [==============================] - 0s 263us/sample - loss: 15.1828 - mae: 2.6956\n",
      "Epoch 12/80\n",
      "404/404 [==============================] - 0s 261us/sample - loss: 14.2706 - mae: 2.5945\n",
      "Epoch 13/80\n",
      "404/404 [==============================] - 0s 266us/sample - loss: 13.5108 - mae: 2.5541\n",
      "Epoch 14/80\n",
      "404/404 [==============================] - 0s 262us/sample - loss: 12.8468 - mae: 2.4691\n",
      "Epoch 15/80\n",
      "404/404 [==============================] - 0s 268us/sample - loss: 12.3903 - mae: 2.4451\n",
      "Epoch 16/80\n",
      "404/404 [==============================] - 0s 264us/sample - loss: 11.9247 - mae: 2.3811\n",
      "Epoch 17/80\n",
      "404/404 [==============================] - 0s 256us/sample - loss: 11.3032 - mae: 2.3597\n",
      "Epoch 18/80\n",
      "404/404 [==============================] - 0s 260us/sample - loss: 11.0690 - mae: 2.3388\n",
      "Epoch 19/80\n",
      "404/404 [==============================] - 0s 259us/sample - loss: 10.7310 - mae: 2.2944\n",
      "Epoch 20/80\n",
      "404/404 [==============================] - 0s 259us/sample - loss: 10.5101 - mae: 2.2895\n",
      "Epoch 21/80\n",
      "404/404 [==============================] - 0s 259us/sample - loss: 10.3341 - mae: 2.2583\n",
      "Epoch 22/80\n",
      "404/404 [==============================] - 0s 262us/sample - loss: 9.9808 - mae: 2.2571\n",
      "Epoch 23/80\n",
      "404/404 [==============================] - 0s 253us/sample - loss: 9.8168 - mae: 2.2137\n",
      "Epoch 24/80\n",
      "404/404 [==============================] - 0s 271us/sample - loss: 9.7222 - mae: 2.1880\n",
      "Epoch 25/80\n",
      "404/404 [==============================] - 0s 258us/sample - loss: 9.6469 - mae: 2.2169\n",
      "Epoch 26/80\n",
      "404/404 [==============================] - 0s 260us/sample - loss: 9.4059 - mae: 2.1576\n",
      "Epoch 27/80\n",
      "404/404 [==============================] - 0s 253us/sample - loss: 9.0533 - mae: 2.0943\n",
      "Epoch 28/80\n",
      "404/404 [==============================] - 0s 261us/sample - loss: 9.2301 - mae: 2.1271\n",
      "Epoch 29/80\n",
      "404/404 [==============================] - 0s 263us/sample - loss: 8.9968 - mae: 2.1012\n",
      "Epoch 30/80\n",
      "404/404 [==============================] - 0s 261us/sample - loss: 8.9429 - mae: 2.0856\n",
      "Epoch 31/80\n",
      "404/404 [==============================] - 0s 261us/sample - loss: 8.6413 - mae: 2.0542\n",
      "Epoch 32/80\n",
      "404/404 [==============================] - 0s 257us/sample - loss: 8.5168 - mae: 2.0255\n",
      "Epoch 33/80\n",
      "404/404 [==============================] - 0s 260us/sample - loss: 8.5374 - mae: 2.0402\n",
      "Epoch 34/80\n",
      "404/404 [==============================] - 0s 264us/sample - loss: 8.4901 - mae: 2.0186\n",
      "Epoch 35/80\n",
      "404/404 [==============================] - 0s 255us/sample - loss: 8.1894 - mae: 2.0013\n",
      "Epoch 36/80\n",
      "404/404 [==============================] - 0s 261us/sample - loss: 8.1035 - mae: 1.9623\n",
      "Epoch 37/80\n",
      "404/404 [==============================] - 0s 252us/sample - loss: 8.3128 - mae: 2.0022\n",
      "Epoch 38/80\n",
      "404/404 [==============================] - 0s 262us/sample - loss: 7.9675 - mae: 1.9473\n",
      "Epoch 39/80\n",
      "404/404 [==============================] - 0s 262us/sample - loss: 7.9034 - mae: 1.9516\n",
      "Epoch 40/80\n",
      "404/404 [==============================] - 0s 259us/sample - loss: 8.0627 - mae: 1.9931\n",
      "Epoch 41/80\n",
      "404/404 [==============================] - 0s 261us/sample - loss: 7.7115 - mae: 1.9449\n",
      "Epoch 42/80\n",
      "404/404 [==============================] - 0s 263us/sample - loss: 7.6444 - mae: 1.9175\n",
      "Epoch 43/80\n",
      "404/404 [==============================] - 0s 265us/sample - loss: 7.5371 - mae: 1.8989\n",
      "Epoch 44/80\n",
      "404/404 [==============================] - 0s 258us/sample - loss: 7.5109 - mae: 1.8941\n",
      "Epoch 45/80\n",
      "404/404 [==============================] - 0s 259us/sample - loss: 7.4285 - mae: 1.9058\n",
      "Epoch 46/80\n",
      "404/404 [==============================] - 0s 257us/sample - loss: 7.3954 - mae: 1.8887\n",
      "Epoch 47/80\n",
      "404/404 [==============================] - 0s 259us/sample - loss: 7.3579 - mae: 1.8621\n",
      "Epoch 48/80\n",
      "404/404 [==============================] - 0s 260us/sample - loss: 7.3846 - mae: 1.8716\n",
      "Epoch 49/80\n",
      "404/404 [==============================] - 0s 260us/sample - loss: 7.2317 - mae: 1.9345\n",
      "Epoch 50/80\n",
      "404/404 [==============================] - 0s 261us/sample - loss: 7.1915 - mae: 1.8362\n",
      "Epoch 51/80\n",
      "404/404 [==============================] - 0s 262us/sample - loss: 7.0063 - mae: 1.8868\n",
      "Epoch 52/80\n",
      "404/404 [==============================] - 0s 266us/sample - loss: 6.9870 - mae: 1.8343\n",
      "Epoch 53/80\n",
      "404/404 [==============================] - 0s 260us/sample - loss: 7.1034 - mae: 1.8470\n",
      "Epoch 54/80\n",
      "404/404 [==============================] - 0s 262us/sample - loss: 6.8420 - mae: 1.8143\n",
      "Epoch 55/80\n",
      "404/404 [==============================] - 0s 262us/sample - loss: 7.0607 - mae: 1.8046\n",
      "Epoch 56/80\n",
      "404/404 [==============================] - 0s 253us/sample - loss: 6.9889 - mae: 1.8249\n",
      "Epoch 57/80\n",
      "404/404 [==============================] - 0s 262us/sample - loss: 6.7354 - mae: 1.8091\n",
      "Epoch 58/80\n",
      "404/404 [==============================] - 0s 261us/sample - loss: 6.6188 - mae: 1.8122\n",
      "Epoch 59/80\n",
      "404/404 [==============================] - 0s 265us/sample - loss: 6.7732 - mae: 1.7884\n",
      "Epoch 60/80\n",
      "404/404 [==============================] - 0s 261us/sample - loss: 6.4974 - mae: 1.7737\n",
      "Epoch 61/80\n",
      "404/404 [==============================] - 0s 256us/sample - loss: 6.4878 - mae: 1.7851\n",
      "Epoch 62/80\n",
      "404/404 [==============================] - 0s 265us/sample - loss: 6.5415 - mae: 1.7744\n",
      "Epoch 63/80\n",
      "404/404 [==============================] - 0s 260us/sample - loss: 6.2748 - mae: 1.7176\n",
      "Epoch 64/80\n",
      "404/404 [==============================] - 0s 256us/sample - loss: 6.4704 - mae: 1.7881\n",
      "Epoch 65/80\n",
      "404/404 [==============================] - 0s 251us/sample - loss: 6.4590 - mae: 1.7705\n",
      "Epoch 66/80\n",
      "404/404 [==============================] - 0s 259us/sample - loss: 6.2719 - mae: 1.7416\n",
      "Epoch 67/80\n",
      "404/404 [==============================] - 0s 262us/sample - loss: 6.3846 - mae: 1.7536\n",
      "Epoch 68/80\n",
      "404/404 [==============================] - 0s 261us/sample - loss: 6.2583 - mae: 1.7141\n",
      "Epoch 69/80\n",
      "404/404 [==============================] - 0s 263us/sample - loss: 6.1706 - mae: 1.7109\n",
      "Epoch 70/80\n",
      "404/404 [==============================] - 0s 259us/sample - loss: 6.2015 - mae: 1.7150\n",
      "Epoch 71/80\n",
      "404/404 [==============================] - 0s 260us/sample - loss: 5.9634 - mae: 1.6878\n",
      "Epoch 72/80\n",
      "404/404 [==============================] - 0s 262us/sample - loss: 5.9121 - mae: 1.6856\n",
      "Epoch 73/80\n",
      "404/404 [==============================] - 0s 261us/sample - loss: 5.8207 - mae: 1.6792\n",
      "Epoch 74/80\n",
      "404/404 [==============================] - 0s 257us/sample - loss: 5.8796 - mae: 1.7151\n",
      "Epoch 75/80\n",
      "404/404 [==============================] - 0s 255us/sample - loss: 5.8062 - mae: 1.6815\n",
      "Epoch 76/80\n",
      "404/404 [==============================] - 0s 266us/sample - loss: 5.9120 - mae: 1.6919\n",
      "Epoch 77/80\n",
      "404/404 [==============================] - 0s 262us/sample - loss: 5.7360 - mae: 1.6471\n",
      "Epoch 78/80\n",
      "404/404 [==============================] - 0s 264us/sample - loss: 5.7621 - mae: 1.6757\n",
      "Epoch 79/80\n",
      "404/404 [==============================] - 0s 260us/sample - loss: 5.5276 - mae: 1.6307\n",
      "Epoch 80/80\n",
      "404/404 [==============================] - 0s 267us/sample - loss: 5.4398 - mae: 1.6575\n"
     ]
    },
    {
     "data": {
      "text/plain": [
       "<tensorflow.python.keras.callbacks.History at 0x7f226c0b5ba8>"
      ]
     },
     "execution_count": 26,
     "metadata": {},
     "output_type": "execute_result"
    }
   ],
   "source": [
    "model = build_model()\n",
    "model.fit(x_train, train_targets, epochs=80, batch_size=16)"
   ]
  },
  {
   "cell_type": "code",
   "execution_count": 27,
   "metadata": {},
   "outputs": [
    {
     "name": "stdout",
     "output_type": "stream",
     "text": [
      "102/102 [==============================] - 0s 442us/sample - loss: 16.1668 - mae: 2.5395\n"
     ]
    },
    {
     "data": {
      "text/plain": [
       "[16.166849921731387, 2.5394976]"
      ]
     },
     "execution_count": 27,
     "metadata": {},
     "output_type": "execute_result"
    }
   ],
   "source": [
    "model.evaluate(x_test, test_targets)"
   ]
  },
  {
   "cell_type": "code",
   "execution_count": null,
   "metadata": {
    "collapsed": true
   },
   "outputs": [],
   "source": []
  }
 ],
 "metadata": {
  "kernelspec": {
   "display_name": "venv_ds",
   "language": "python",
   "name": "venv_ds"
  },
  "language_info": {
   "codemirror_mode": {
    "name": "ipython",
    "version": 3
   },
   "file_extension": ".py",
   "mimetype": "text/x-python",
   "name": "python",
   "nbconvert_exporter": "python",
   "pygments_lexer": "ipython3",
   "version": "3.5.2"
  }
 },
 "nbformat": 4,
 "nbformat_minor": 2
}
