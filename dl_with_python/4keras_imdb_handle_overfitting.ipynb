{
 "cells": [
  {
   "cell_type": "code",
   "execution_count": 1,
   "metadata": {
    "collapsed": true
   },
   "outputs": [],
   "source": [
    "from tensorflow.keras.datasets import imdb\n",
    "from tensorflow.keras import layers, models\n",
    "\n",
    "import numpy as np\n",
    "import pickle"
   ]
  },
  {
   "cell_type": "code",
   "execution_count": 2,
   "metadata": {},
   "outputs": [
    {
     "name": "stdout",
     "output_type": "stream",
     "text": [
      "train data shape:  (25000,)\n",
      "train labels shape:  (25000,)\n"
     ]
    }
   ],
   "source": [
    "(train_data, train_labels), (test_data, test_labels) = pickle.load( open( \"imdb.p\", \"rb\" ) )\n",
    "print(\"train data shape: \", train_data.shape)\n",
    "print(\"train labels shape: \", train_labels.shape)"
   ]
  },
  {
   "cell_type": "code",
   "execution_count": 3,
   "metadata": {},
   "outputs": [
    {
     "name": "stdout",
     "output_type": "stream",
     "text": [
      "? this film was just brilliant casting location scenery story direction everyone's really suited the part they played and you could just imagine being there robert ? is an amazing actor and now the same being director ? father came from the same scottish island as myself so i loved the fact there was a real connection with this film the witty remarks throughout the film were great it was just brilliant so much that i bought the film as soon as it was released for ? and would recommend it to everyone to watch and the fly fishing was amazing really cried at the end it was so sad and you know what they say if you cry at a film it must have been good and this definitely was also ? to the two little boy's that played the ? of norman and paul they were just brilliant children are often left out of the ? list i think because the stars that play them all grown up are such a big profile for the whole film but these children are amazing and should be praised for what they have done don't you think the whole story was so lovely because it was true and was someone's life after all that was shared with us all\n"
     ]
    }
   ],
   "source": [
    "word_index = imdb.get_word_index()\n",
    "reverse_word_index = dict([(y, x) for x,y in word_index.items()])\n",
    "\n",
    "decoded_review = ' '.join([reverse_word_index.get(i - 3, '?') for i in train_data[0]])\n",
    "print(decoded_review)"
   ]
  },
  {
   "cell_type": "code",
   "execution_count": 4,
   "metadata": {},
   "outputs": [
    {
     "name": "stdout",
     "output_type": "stream",
     "text": [
      "[0. 1. 1. ... 0. 0. 0.]\n"
     ]
    }
   ],
   "source": [
    "def vectorize_sequences(sequences, maxlen = 10000):\n",
    "    out = np.zeros((len(sequences), maxlen))\n",
    "    for n, i in enumerate(sequences):\n",
    "        out[n, i] = 1.\n",
    "    return out\n",
    "\n",
    "\n",
    "x_train = vectorize_sequences(train_data)\n",
    "x_test = vectorize_sequences(test_data)\n",
    "print(x_train[0])\n",
    "\n",
    "y_train = np.asarray(train_labels).astype('float32')\n",
    "y_test = np.asarray(test_labels).astype('float32')"
   ]
  },
  {
   "cell_type": "code",
   "execution_count": 7,
   "metadata": {},
   "outputs": [],
   "source": [
    "model = models.Sequential()\n",
    "model.add(layers.Dense(16, activation='relu', input_shape = (10000,)))\n",
    "model.add(layers.Dense(16, activation='relu'))\n",
    "model.add(layers.Dense(1, activation='sigmoid'))\n",
    "\n",
    "model.compile(optimizer = 'rmsprop', metrics = ['acc'], loss = 'binary_crossentropy')\n",
    "history = model.fit(x_train, y_train, epochs=20, batch_size = 512, verbose = 0, validation_split = 0.2)#, validation_split = 0.2)"
   ]
  },
  {
   "cell_type": "code",
   "execution_count": 8,
   "metadata": {},
   "outputs": [
    {
     "data": {
      "text/plain": [
       "dict_keys(['loss', 'val_loss', 'val_acc', 'acc'])"
      ]
     },
     "execution_count": 8,
     "metadata": {},
     "output_type": "execute_result"
    }
   ],
   "source": [
    "history.history.keys()"
   ]
  },
  {
   "cell_type": "code",
   "execution_count": 9,
   "metadata": {},
   "outputs": [
    {
     "data": {
      "text/plain": [
       "[<matplotlib.lines.Line2D at 0x7f82f408fc88>]"
      ]
     },
     "execution_count": 9,
     "metadata": {},
     "output_type": "execute_result"
    },
    {
     "data": {
      "image/png": "[encoded data removed]",
      "text/plain": [
       "<Figure size 432x288 with 1 Axes>"
      ]
     },
     "metadata": {
      "needs_background": "light"
     },
     "output_type": "display_data"
    }
   ],
   "source": [
    "import matplotlib.pyplot as plt\n",
    "%matplotlib inline\n",
    "\n",
    "plt.plot(range(20), history.history['val_loss'])"
   ]
  },
  {
   "cell_type": "code",
   "execution_count": 10,
   "metadata": {},
   "outputs": [
    {
     "data": {
      "image/png": "[encoded data removed]",
      "text/plain": [
       "<Figure size 432x288 with 1 Axes>"
      ]
     },
     "metadata": {
      "needs_background": "light"
     },
     "output_type": "display_data"
    }
   ],
   "source": [
    "model = models.Sequential()\n",
    "model.add(layers.Dense(4, activation='relu', input_shape = (10000,)))\n",
    "model.add(layers.Dense(4, activation='relu'))\n",
    "model.add(layers.Dense(1, activation='sigmoid'))\n",
    "\n",
    "model.compile(optimizer = 'rmsprop', metrics = ['acc'], loss = 'binary_crossentropy')\n",
    "history = model.fit(x_train, y_train, epochs=20, batch_size = 512, verbose = 0, validation_split = 0.2)#, validation_split = 0.2)\n",
    "\n",
    "plt.plot(range(20), history.history['val_loss'])\n",
    "plt.show()"
   ]
  },
  {
   "cell_type": "code",
   "execution_count": 11,
   "metadata": {
    "collapsed": true
   },
   "outputs": [],
   "source": [
    "from tensorflow.keras import regularizers"
   ]
  },
  {
   "cell_type": "code",
   "execution_count": 14,
   "metadata": {
    "scrolled": true
   },
   "outputs": [
    {
     "name": "stdout",
     "output_type": "stream",
     "text": [
      "Train on 20000 samples, validate on 5000 samples\n",
      "Epoch 1/20\n",
      "20000/20000 [==============================] - 1s 62us/sample - loss: 0.5230 - acc: 0.8034 - val_loss: 0.4057 - val_acc: 0.8674\n",
      "Epoch 2/20\n",
      "20000/20000 [==============================] - 1s 53us/sample - loss: 0.3348 - acc: 0.9037 - val_loss: 0.3368 - val_acc: 0.8876\n",
      "Epoch 3/20\n",
      "20000/20000 [==============================] - 1s 51us/sample - loss: 0.2808 - acc: 0.9187 - val_loss: 0.3249 - val_acc: 0.8906\n",
      "Epoch 4/20\n",
      "20000/20000 [==============================] - 1s 52us/sample - loss: 0.2531 - acc: 0.9287 - val_loss: 0.3707 - val_acc: 0.8716\n",
      "Epoch 5/20\n",
      "20000/20000 [==============================] - 1s 52us/sample - loss: 0.2422 - acc: 0.9342 - val_loss: 0.3472 - val_acc: 0.8808\n",
      "Epoch 6/20\n",
      "20000/20000 [==============================] - 1s 52us/sample - loss: 0.2260 - acc: 0.9397 - val_loss: 0.3777 - val_acc: 0.8696\n",
      "Epoch 7/20\n",
      "20000/20000 [==============================] - 1s 53us/sample - loss: 0.2166 - acc: 0.9451 - val_loss: 0.3629 - val_acc: 0.8746\n",
      "Epoch 8/20\n",
      "20000/20000 [==============================] - 1s 52us/sample - loss: 0.2102 - acc: 0.9464 - val_loss: 0.3516 - val_acc: 0.8862\n",
      "Epoch 9/20\n",
      "20000/20000 [==============================] - 1s 52us/sample - loss: 0.2061 - acc: 0.9470 - val_loss: 0.3722 - val_acc: 0.8828\n",
      "Epoch 10/20\n",
      "20000/20000 [==============================] - 1s 53us/sample - loss: 0.2016 - acc: 0.9501 - val_loss: 0.3607 - val_acc: 0.8842\n",
      "Epoch 11/20\n",
      "20000/20000 [==============================] - 1s 52us/sample - loss: 0.1986 - acc: 0.9505 - val_loss: 0.4055 - val_acc: 0.8748\n",
      "Epoch 12/20\n",
      "20000/20000 [==============================] - 1s 54us/sample - loss: 0.1901 - acc: 0.9543 - val_loss: 0.4042 - val_acc: 0.8688\n",
      "Epoch 13/20\n",
      "20000/20000 [==============================] - 1s 53us/sample - loss: 0.1883 - acc: 0.9558 - val_loss: 0.4074 - val_acc: 0.8712\n",
      "Epoch 14/20\n",
      "20000/20000 [==============================] - 1s 53us/sample - loss: 0.1852 - acc: 0.9564 - val_loss: 0.3883 - val_acc: 0.8800\n",
      "Epoch 15/20\n",
      "20000/20000 [==============================] - 1s 53us/sample - loss: 0.1909 - acc: 0.9528 - val_loss: 0.3945 - val_acc: 0.8762\n",
      "Epoch 16/20\n",
      "20000/20000 [==============================] - 1s 51us/sample - loss: 0.1828 - acc: 0.9577 - val_loss: 0.4002 - val_acc: 0.8804\n",
      "Epoch 17/20\n",
      "20000/20000 [==============================] - 1s 51us/sample - loss: 0.1765 - acc: 0.9601 - val_loss: 0.4072 - val_acc: 0.8786\n",
      "Epoch 18/20\n",
      "20000/20000 [==============================] - 1s 50us/sample - loss: 0.1769 - acc: 0.9587 - val_loss: 0.4514 - val_acc: 0.8646\n",
      "Epoch 19/20\n",
      "20000/20000 [==============================] - 1s 52us/sample - loss: 0.1750 - acc: 0.9615 - val_loss: 0.4257 - val_acc: 0.8740\n",
      "Epoch 20/20\n",
      "20000/20000 [==============================] - 1s 51us/sample - loss: 0.1760 - acc: 0.9582 - val_loss: 0.4267 - val_acc: 0.8776\n"
     ]
    },
    {
     "data": {
      "image/png": "[encoded data removed]",
      "text/plain": [
       "<Figure size 432x288 with 1 Axes>"
      ]
     },
     "metadata": {
      "needs_background": "light"
     },
     "output_type": "display_data"
    }
   ],
   "source": [
    "model = models.Sequential()\n",
    "model.add(layers.Dense(16, activation='relu', input_shape = (10000,), kernel_regularizer=regularizers.l2(0.001)))\n",
    "model.add(layers.Dense(16, activation='relu', kernel_regularizer=regularizers.l2(0.001)))\n",
    "model.add(layers.Dense(1, activation='sigmoid'))\n",
    "\n",
    "model.compile(optimizer = 'rmsprop', metrics = ['acc'], loss = 'binary_crossentropy')\n",
    "history = model.fit(x_train, y_train, epochs=20, batch_size = 512, verbose = 1, validation_split = 0.2)#, validation_split = 0.2)\n",
    "\n",
    "plt.plot(range(20), history.history['val_loss'])\n",
    "plt.show()"
   ]
  },
  {
   "cell_type": "code",
   "execution_count": 15,
   "metadata": {
    "collapsed": true
   },
   "outputs": [],
   "source": [
    "import numpy as np"
   ]
  },
  {
   "cell_type": "code",
   "execution_count": 16,
   "metadata": {},
   "outputs": [
    {
     "data": {
      "text/plain": [
       "array([[1, 1, 0, 0, 0],\n",
       "       [0, 1, 0, 1, 0],\n",
       "       [0, 1, 1, 0, 1],\n",
       "       [1, 0, 1, 1, 0],\n",
       "       [0, 1, 1, 0, 0],\n",
       "       [0, 1, 0, 1, 0],\n",
       "       [1, 0, 1, 1, 0],\n",
       "       [0, 1, 1, 0, 1],\n",
       "       [1, 0, 0, 0, 0],\n",
       "       [1, 1, 1, 1, 0]])"
      ]
     },
     "execution_count": 16,
     "metadata": {},
     "output_type": "execute_result"
    }
   ],
   "source": [
    "np.random.randint(0, high=2, size = (10, 5))"
   ]
  },
  {
   "cell_type": "code",
   "execution_count": 17,
   "metadata": {},
   "outputs": [
    {
     "name": "stdout",
     "output_type": "stream",
     "text": [
      "Train on 20000 samples, validate on 5000 samples\n",
      "Epoch 1/20\n",
      "20000/20000 [==============================] - 2s 79us/sample - loss: 0.6305 - acc: 0.6342 - val_loss: 0.5020 - val_acc: 0.8568\n",
      "Epoch 2/20\n",
      "20000/20000 [==============================] - 1s 68us/sample - loss: 0.5001 - acc: 0.7700 - val_loss: 0.3782 - val_acc: 0.8756\n",
      "Epoch 3/20\n",
      "20000/20000 [==============================] - 1s 68us/sample - loss: 0.4065 - acc: 0.8289 - val_loss: 0.3255 - val_acc: 0.8822\n",
      "Epoch 4/20\n",
      "20000/20000 [==============================] - 1s 69us/sample - loss: 0.3415 - acc: 0.8686 - val_loss: 0.2830 - val_acc: 0.8932\n",
      "Epoch 5/20\n",
      "20000/20000 [==============================] - 1s 50us/sample - loss: 0.2931 - acc: 0.8977 - val_loss: 0.2764 - val_acc: 0.8942\n",
      "Epoch 6/20\n",
      "20000/20000 [==============================] - 1s 52us/sample - loss: 0.2556 - acc: 0.9119 - val_loss: 0.2738 - val_acc: 0.8960\n",
      "Epoch 7/20\n",
      "20000/20000 [==============================] - 1s 50us/sample - loss: 0.2310 - acc: 0.9229 - val_loss: 0.2828 - val_acc: 0.8958\n",
      "Epoch 8/20\n",
      "20000/20000 [==============================] - 1s 68us/sample - loss: 0.2032 - acc: 0.9329 - val_loss: 0.2957 - val_acc: 0.8958\n",
      "Epoch 9/20\n",
      "20000/20000 [==============================] - 1s 51us/sample - loss: 0.1841 - acc: 0.9385 - val_loss: 0.3171 - val_acc: 0.8970\n",
      "Epoch 10/20\n",
      "20000/20000 [==============================] - 1s 52us/sample - loss: 0.1646 - acc: 0.9478 - val_loss: 0.3319 - val_acc: 0.8952\n",
      "Epoch 11/20\n",
      "20000/20000 [==============================] - 1s 69us/sample - loss: 0.1482 - acc: 0.9516 - val_loss: 0.3591 - val_acc: 0.8910\n",
      "Epoch 12/20\n",
      "20000/20000 [==============================] - 1s 69us/sample - loss: 0.1378 - acc: 0.9563 - val_loss: 0.3832 - val_acc: 0.8918\n",
      "Epoch 13/20\n",
      "20000/20000 [==============================] - 1s 68us/sample - loss: 0.1281 - acc: 0.9592 - val_loss: 0.4276 - val_acc: 0.8920\n",
      "Epoch 14/20\n",
      "20000/20000 [==============================] - 1s 70us/sample - loss: 0.1217 - acc: 0.9609 - val_loss: 0.4580 - val_acc: 0.8874\n",
      "Epoch 15/20\n",
      "20000/20000 [==============================] - 1s 51us/sample - loss: 0.1185 - acc: 0.9635 - val_loss: 0.4764 - val_acc: 0.8866\n",
      "Epoch 16/20\n",
      "20000/20000 [==============================] - 1s 51us/sample - loss: 0.1103 - acc: 0.9659 - val_loss: 0.4902 - val_acc: 0.8936\n",
      "Epoch 17/20\n",
      "20000/20000 [==============================] - 1s 51us/sample - loss: 0.1049 - acc: 0.9656 - val_loss: 0.5204 - val_acc: 0.8918\n",
      "Epoch 18/20\n",
      "20000/20000 [==============================] - 1s 68us/sample - loss: 0.0968 - acc: 0.9686 - val_loss: 0.5516 - val_acc: 0.8888\n",
      "Epoch 19/20\n",
      "20000/20000 [==============================] - 1s 51us/sample - loss: 0.0939 - acc: 0.9692 - val_loss: 0.5805 - val_acc: 0.8884\n",
      "Epoch 20/20\n",
      "20000/20000 [==============================] - 1s 52us/sample - loss: 0.0915 - acc: 0.9703 - val_loss: 0.5783 - val_acc: 0.8904\n"
     ]
    },
    {
     "data": {
      "image/png": "[encoded data removed]",
      "text/plain": [
       "<Figure size 432x288 with 1 Axes>"
      ]
     },
     "metadata": {
      "needs_background": "light"
     },
     "output_type": "display_data"
    }
   ],
   "source": [
    "model = models.Sequential()\n",
    "model.add(layers.Dense(16, activation='relu', input_shape = (10000,)))\n",
    "model.add(layers.Dropout(0.5))\n",
    "model.add(layers.Dense(16, activation='relu'))\n",
    "model.add(layers.Dropout(0.5))\n",
    "model.add(layers.Dense(1, activation='sigmoid'))\n",
    "\n",
    "model.compile(optimizer = 'rmsprop', metrics = ['acc'], loss = 'binary_crossentropy')\n",
    "history = model.fit(x_train, y_train, epochs=20, batch_size = 512, verbose = 1, validation_split = 0.2)#, validation_split = 0.2)\n",
    "\n",
    "plt.plot(range(20), history.history['val_loss'])\n",
    "plt.show()"
   ]
  },
  {
   "cell_type": "code",
   "execution_count": null,
   "metadata": {
    "collapsed": true
   },
   "outputs": [],
   "source": []
  }
 ],
 "metadata": {
  "kernelspec": {
   "display_name": "venv_ds",
   "language": "python",
   "name": "venv_ds"
  },
  "language_info": {
   "codemirror_mode": {
    "name": "ipython",
    "version": 3
   },
   "file_extension": ".py",
   "mimetype": "text/x-python",
   "name": "python",
   "nbconvert_exporter": "python",
   "pygments_lexer": "ipython3",
   "version": "3.5.2"
  }
 },
 "nbformat": 4,
 "nbformat_minor": 2
}
